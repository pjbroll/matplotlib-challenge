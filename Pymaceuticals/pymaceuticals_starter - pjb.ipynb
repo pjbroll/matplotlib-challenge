{
 "cells": [
  {
   "cell_type": "code",
   "execution_count": 1,
   "metadata": {},
   "outputs": [
    {
     "data": {
      "text/html": [
       "<div>\n",
       "<style scoped>\n",
       "    .dataframe tbody tr th:only-of-type {\n",
       "        vertical-align: middle;\n",
       "    }\n",
       "\n",
       "    .dataframe tbody tr th {\n",
       "        vertical-align: top;\n",
       "    }\n",
       "\n",
       "    .dataframe thead th {\n",
       "        text-align: right;\n",
       "    }\n",
       "</style>\n",
       "<table border=\"1\" class=\"dataframe\">\n",
       "  <thead>\n",
       "    <tr style=\"text-align: right;\">\n",
       "      <th></th>\n",
       "      <th>Mouse ID</th>\n",
       "      <th>Timepoint</th>\n",
       "      <th>Tumor Volume (mm3)</th>\n",
       "      <th>Metastatic Sites</th>\n",
       "      <th>Drug</th>\n",
       "    </tr>\n",
       "  </thead>\n",
       "  <tbody>\n",
       "    <tr>\n",
       "      <th>0</th>\n",
       "      <td>b128</td>\n",
       "      <td>0</td>\n",
       "      <td>45.000000</td>\n",
       "      <td>0</td>\n",
       "      <td>Capomulin</td>\n",
       "    </tr>\n",
       "    <tr>\n",
       "      <th>1</th>\n",
       "      <td>b128</td>\n",
       "      <td>5</td>\n",
       "      <td>45.651331</td>\n",
       "      <td>0</td>\n",
       "      <td>Capomulin</td>\n",
       "    </tr>\n",
       "    <tr>\n",
       "      <th>2</th>\n",
       "      <td>b128</td>\n",
       "      <td>10</td>\n",
       "      <td>43.270852</td>\n",
       "      <td>0</td>\n",
       "      <td>Capomulin</td>\n",
       "    </tr>\n",
       "    <tr>\n",
       "      <th>3</th>\n",
       "      <td>b128</td>\n",
       "      <td>15</td>\n",
       "      <td>43.784893</td>\n",
       "      <td>0</td>\n",
       "      <td>Capomulin</td>\n",
       "    </tr>\n",
       "    <tr>\n",
       "      <th>4</th>\n",
       "      <td>b128</td>\n",
       "      <td>20</td>\n",
       "      <td>42.731552</td>\n",
       "      <td>0</td>\n",
       "      <td>Capomulin</td>\n",
       "    </tr>\n",
       "  </tbody>\n",
       "</table>\n",
       "</div>"
      ],
      "text/plain": [
       "  Mouse ID  Timepoint  Tumor Volume (mm3)  Metastatic Sites       Drug\n",
       "0     b128          0           45.000000                 0  Capomulin\n",
       "1     b128          5           45.651331                 0  Capomulin\n",
       "2     b128         10           43.270852                 0  Capomulin\n",
       "3     b128         15           43.784893                 0  Capomulin\n",
       "4     b128         20           42.731552                 0  Capomulin"
      ]
     },
     "execution_count": 1,
     "metadata": {},
     "output_type": "execute_result"
    }
   ],
   "source": [
    "# Dependencies and Setup\n",
    "%matplotlib inline\n",
    "import matplotlib.pyplot as plt\n",
    "import pandas as pd\n",
    "import numpy as np\n",
    "\n",
    "# Hide warning messages in notebook\n",
    "import warnings\n",
    "warnings.filterwarnings('ignore')\n",
    "\n",
    "# File to Load (Remember to Change These)\n",
    "mouse_drug_data_to_load = \"data/mouse_drug_data.csv\"\n",
    "clinical_trial_data_to_load = \"data/clinicaltrial_data.csv\"\n",
    "\n",
    "# Read the Mouse and Drug Data and the Clinical Trial Data\n",
    "mouse_data = pd.read_csv(mouse_drug_data_to_load)\n",
    "clinical_data = pd.read_csv(clinical_trial_data_to_load)\n",
    "\n",
    "# Combine the data into a single dataset\n",
    "drug_study_data_complete = pd.merge(clinical_data, mouse_data, how=\"outer\", on=[\"Mouse ID\"])\n",
    "\n",
    "\n",
    "# Display the data table for preview\n",
    "drug_study_data_complete.head()\n"
   ]
  },
  {
   "cell_type": "markdown",
   "metadata": {},
   "source": [
    "## Tumor Response to Treatment"
   ]
  },
  {
   "cell_type": "code",
   "execution_count": 2,
   "metadata": {},
   "outputs": [
    {
     "data": {
      "text/plain": [
       "array(['Stelasyn', 'Naftisol', 'Ketapril', 'Capomulin', 'Infubinol',\n",
       "       'Ceftamin', 'Propriva', 'Zoniferol', 'Ramicane', 'Placebo'],\n",
       "      dtype=object)"
      ]
     },
     "execution_count": 2,
     "metadata": {},
     "output_type": "execute_result"
    }
   ],
   "source": [
    "drug_names = mouse_data[\"Drug\"].unique()\n",
    "drug_names"
   ]
  },
  {
   "cell_type": "code",
   "execution_count": 3,
   "metadata": {},
   "outputs": [],
   "source": [
    "# timepoint - dependent variable (x axis)\n",
    "x_Time = clinical_data[\"Timepoint\"].unique()\n",
    "\n",
    "# x_Time"
   ]
  },
  {
   "cell_type": "code",
   "execution_count": 4,
   "metadata": {},
   "outputs": [],
   "source": [
    "# max value of x for x axis\n",
    "x_max = x_Time.max()\n",
    "# x_max"
   ]
  },
  {
   "cell_type": "code",
   "execution_count": 5,
   "metadata": {},
   "outputs": [
    {
     "data": {
      "text/html": [
       "<div>\n",
       "<style scoped>\n",
       "    .dataframe tbody tr th:only-of-type {\n",
       "        vertical-align: middle;\n",
       "    }\n",
       "\n",
       "    .dataframe tbody tr th {\n",
       "        vertical-align: top;\n",
       "    }\n",
       "\n",
       "    .dataframe thead th {\n",
       "        text-align: right;\n",
       "    }\n",
       "</style>\n",
       "<table border=\"1\" class=\"dataframe\">\n",
       "  <thead>\n",
       "    <tr style=\"text-align: right;\">\n",
       "      <th></th>\n",
       "      <th>Drug</th>\n",
       "      <th>Timepoint</th>\n",
       "      <th>Mean Tumor Volume (mm3)</th>\n",
       "    </tr>\n",
       "  </thead>\n",
       "  <tbody>\n",
       "    <tr>\n",
       "      <th>0</th>\n",
       "      <td>Capomulin</td>\n",
       "      <td>0</td>\n",
       "      <td>45.000000</td>\n",
       "    </tr>\n",
       "    <tr>\n",
       "      <th>1</th>\n",
       "      <td>Capomulin</td>\n",
       "      <td>5</td>\n",
       "      <td>44.266086</td>\n",
       "    </tr>\n",
       "    <tr>\n",
       "      <th>2</th>\n",
       "      <td>Capomulin</td>\n",
       "      <td>10</td>\n",
       "      <td>43.084291</td>\n",
       "    </tr>\n",
       "    <tr>\n",
       "      <th>3</th>\n",
       "      <td>Capomulin</td>\n",
       "      <td>15</td>\n",
       "      <td>42.064317</td>\n",
       "    </tr>\n",
       "    <tr>\n",
       "      <th>4</th>\n",
       "      <td>Capomulin</td>\n",
       "      <td>20</td>\n",
       "      <td>40.716325</td>\n",
       "    </tr>\n",
       "  </tbody>\n",
       "</table>\n",
       "</div>"
      ],
      "text/plain": [
       "        Drug  Timepoint  Mean Tumor Volume (mm3)\n",
       "0  Capomulin          0                45.000000\n",
       "1  Capomulin          5                44.266086\n",
       "2  Capomulin         10                43.084291\n",
       "3  Capomulin         15                42.064317\n",
       "4  Capomulin         20                40.716325"
      ]
     },
     "execution_count": 5,
     "metadata": {},
     "output_type": "execute_result"
    }
   ],
   "source": [
    "volume_drug_time_gby = drug_study_data_complete.groupby([\"Drug\", \"Timepoint\"])\n",
    "\n",
    "tumor_mean = volume_drug_time_gby[\"Tumor Volume (mm3)\"].mean()\n",
    "\n",
    "drug_id = volume_drug_time_gby[\"Drug\"].max()\n",
    "# drug_id \n",
    "time_id = volume_drug_time_gby[\"Timepoint\"].max()\n",
    "time_id \n",
    "# # # Convert to DataFrame\n",
    "# volumeData = {\n",
    "#     \"Drug\" : drug_id,\n",
    "#     \"Timepoint\" : time_id,\n",
    "#     \"Mean Tumor Volume (mm3)\" : tumor_mean\n",
    "# }\n",
    "grouped_volume_df = pd.DataFrame({\n",
    "    \"Drug\" : drug_id,\n",
    "    \"Timepoint\" : time_id,\n",
    "    \"Mean Tumor Volume (mm3)\" : tumor_mean\n",
    "})\n",
    "\n",
    "# Preview DataFrame\n",
    "grouped_volume_df = grouped_volume_df.reset_index(drop=True)\n",
    "grouped_volume_df.head()"
   ]
  },
  {
   "cell_type": "code",
   "execution_count": 6,
   "metadata": {
    "scrolled": false
   },
   "outputs": [],
   "source": [
    "# pivot on timepoint: https://pandas.pydata.org/pandas-docs/stable/user_guide/reshaping.html\n",
    "\n",
    "mean_drug_stats_df = grouped_volume_df.pivot(index = \"Timepoint\", columns = \"Drug\", \n",
    "                                      values = \"Mean Tumor Volume (mm3)\")\n",
    "\n",
    "# mean_drug_stats_df.head()"
   ]
  },
  {
   "cell_type": "code",
   "execution_count": 7,
   "metadata": {},
   "outputs": [],
   "source": [
    "# remove drugs that we will not plot\n",
    "del mean_drug_stats_df[\"Ceftamin\"]\n",
    "del mean_drug_stats_df[\"Naftisol\"]\n",
    "del mean_drug_stats_df[\"Propriva\"]\n",
    "del mean_drug_stats_df[\"Ramicane\"]\n",
    "del mean_drug_stats_df[\"Stelasyn\"]\n",
    "del mean_drug_stats_df[\"Zoniferol\"]\n",
    "\n",
    "# mean_drug_stats_df.head(11)"
   ]
  },
  {
   "cell_type": "code",
   "execution_count": 8,
   "metadata": {},
   "outputs": [
    {
     "data": {
      "text/html": [
       "<div>\n",
       "<style scoped>\n",
       "    .dataframe tbody tr th:only-of-type {\n",
       "        vertical-align: middle;\n",
       "    }\n",
       "\n",
       "    .dataframe tbody tr th {\n",
       "        vertical-align: top;\n",
       "    }\n",
       "\n",
       "    .dataframe thead th {\n",
       "        text-align: right;\n",
       "    }\n",
       "</style>\n",
       "<table border=\"1\" class=\"dataframe\">\n",
       "  <thead>\n",
       "    <tr style=\"text-align: right;\">\n",
       "      <th></th>\n",
       "      <th>Drug</th>\n",
       "      <th>Timepoint</th>\n",
       "      <th>Standard Error (mm3)</th>\n",
       "    </tr>\n",
       "  </thead>\n",
       "  <tbody>\n",
       "    <tr>\n",
       "      <th>0</th>\n",
       "      <td>Capomulin</td>\n",
       "      <td>0</td>\n",
       "      <td>0.000000</td>\n",
       "    </tr>\n",
       "    <tr>\n",
       "      <th>1</th>\n",
       "      <td>Capomulin</td>\n",
       "      <td>5</td>\n",
       "      <td>0.448593</td>\n",
       "    </tr>\n",
       "    <tr>\n",
       "      <th>2</th>\n",
       "      <td>Capomulin</td>\n",
       "      <td>10</td>\n",
       "      <td>0.702684</td>\n",
       "    </tr>\n",
       "    <tr>\n",
       "      <th>3</th>\n",
       "      <td>Capomulin</td>\n",
       "      <td>15</td>\n",
       "      <td>0.838617</td>\n",
       "    </tr>\n",
       "    <tr>\n",
       "      <th>4</th>\n",
       "      <td>Capomulin</td>\n",
       "      <td>20</td>\n",
       "      <td>0.909731</td>\n",
       "    </tr>\n",
       "  </tbody>\n",
       "</table>\n",
       "</div>"
      ],
      "text/plain": [
       "        Drug  Timepoint  Standard Error (mm3)\n",
       "0  Capomulin          0              0.000000\n",
       "1  Capomulin          5              0.448593\n",
       "2  Capomulin         10              0.702684\n",
       "3  Capomulin         15              0.838617\n",
       "4  Capomulin         20              0.909731"
      ]
     },
     "execution_count": 8,
     "metadata": {},
     "output_type": "execute_result"
    }
   ],
   "source": [
    "# Store the Standard Error of Tumor Volumes Grouped by Drug and Timepoint\n",
    "tumor_sem = volume_drug_time_gby[\"Tumor Volume (mm3)\"].sem()\n",
    "tumor_sem.head()\n",
    "# Convert to DataFrame\n",
    "grouped_sem_df = pd.DataFrame({\n",
    "    \"Drug\" : drug_id,\n",
    "    \"Timepoint\" : time_id,\n",
    "    \"Standard Error (mm3)\" : tumor_sem\n",
    "})\n",
    "\n",
    "# Preview DataFrame\n",
    "grouped_sem_df = grouped_sem_df.reset_index(drop=True)\n",
    "grouped_sem_df.head()\n"
   ]
  },
  {
   "cell_type": "code",
   "execution_count": 9,
   "metadata": {},
   "outputs": [],
   "source": [
    "# pivot on timepoint: https://pandas.pydata.org/pandas-docs/stable/user_guide/reshaping.html\n",
    "sem_drug_stats_df = grouped_sem_df.pivot(index = \"Timepoint\", columns = \"Drug\", \n",
    "                                      values = \"Standard Error (mm3)\")\n",
    "\n",
    "# sem_drug_stats_df.head()"
   ]
  },
  {
   "cell_type": "code",
   "execution_count": 10,
   "metadata": {},
   "outputs": [],
   "source": [
    "# remove drugs that we will not plot\n",
    "del sem_drug_stats_df[\"Ceftamin\"]\n",
    "del sem_drug_stats_df[\"Naftisol\"]\n",
    "del sem_drug_stats_df[\"Propriva\"]\n",
    "del sem_drug_stats_df[\"Ramicane\"]\n",
    "del sem_drug_stats_df[\"Stelasyn\"]\n",
    "del sem_drug_stats_df[\"Zoniferol\"]\n",
    "\n",
    "# sem_drug_stats_df.head()"
   ]
  },
  {
   "cell_type": "code",
   "execution_count": 11,
   "metadata": {
    "scrolled": true
   },
   "outputs": [],
   "source": [
    "# merge data\n",
    "drug_stats = pd.merge(mean_drug_stats_df, sem_drug_stats_df, how=\"left\", on=[\"Timepoint\"])\n",
    "# drug_stats.head()"
   ]
  },
  {
   "cell_type": "code",
   "execution_count": null,
   "metadata": {},
   "outputs": [],
   "source": []
  },
  {
   "cell_type": "code",
   "execution_count": 12,
   "metadata": {
    "scrolled": true
   },
   "outputs": [],
   "source": [
    "# Rearrange and clean the data array\n",
    "drug_stats_arr = drug_stats[[\n",
    "    \"Capomulin_x\", \"Capomulin_y\", \n",
    "    \"Infubinol_x\", \"Infubinol_y\", \n",
    "    \"Ketapril_x\", \"Ketapril_y\", \n",
    "    \"Placebo_x\", \"Placebo_y\"]]\n",
    "drug_stats_arr.head()\n",
    "\n",
    "# rename column\n",
    "drug_stats_arr = drug_stats_arr.rename(\n",
    "    columns={\"Capomulin_x\": \"Capomulin\", \n",
    "             \"Capomulin_y\": \"Capomulin_SE\", \n",
    "             \"Infubinol_x\": \"Infubinol\", \n",
    "             \"Infubinol_y\": \"Infubinol_SE\", \n",
    "             \"Ketapril_x\": \"Ketapril\", \n",
    "             \"Ketapril_y\": \"Ketapril_SE\", \n",
    "             \"Placebo_x\": \"Placebo\", \n",
    "             \"Placebo_y\": \"Placebo_SE\"})\n",
    "# drug_stats_arr"
   ]
  },
  {
   "cell_type": "code",
   "execution_count": 14,
   "metadata": {
    "scrolled": true
   },
   "outputs": [
    {
     "data": {
      "image/png": "[encoded data removed]",
      "text/plain": [
       "<Figure size 432x288 with 1 Axes>"
      ]
     },
     "metadata": {
      "needs_background": "light"
     },
     "output_type": "display_data"
    }
   ],
   "source": [
    "# Generate the Plot (with Error Bars)\n",
    "fig, ax = plt.subplots()\n",
    "\n",
    "fig.suptitle(\"Tumor Response to Treatment\", fontsize=16, fontweight=\"bold\")\n",
    "\n",
    "ax.errorbar(x_Time, drug_stats_arr[\"Capomulin\"], drug_stats_arr[\"Capomulin_SE\"], label=\"Capomulin\", fmt=\"o:r\")\n",
    "ax.errorbar(x_Time, drug_stats_arr[\"Infubinol\"], drug_stats_arr[\"Infubinol_SE\"], label=\"Infubinol\", fmt=\"^:b\")\n",
    "ax.errorbar(x_Time, drug_stats_arr[\"Ketapril\"], drug_stats_arr[\"Ketapril_SE\"], label=\"Ketapril\", fmt=\"s:g\")\n",
    "ax.errorbar(x_Time, drug_stats_arr[\"Placebo\"], drug_stats_arr[\"Placebo_SE\"], label=\"Placebo\", fmt=\"D:k\")\n",
    "\n",
    "# xlim is set to give nice spacing\n",
    "ax.set_xlim(-1, x_max + 1)\n",
    "\n",
    "ax.set_xlabel(\"Time (Days)\")\n",
    "ax.set_ylabel(\"Tumor Volume (mm3)\")\n",
    "\n",
    "plt.grid(axis='y')\n",
    "\n",
    "plt.legend(loc='upper left')\n",
    "\n",
    "\n",
    "# Save the Figure\n",
    "\n",
    "plt.savefig(\"./Images/tumor_response.png\")\n",
    "plt.show()\n"
   ]
  },
  {
   "cell_type": "code",
   "execution_count": 15,
   "metadata": {},
   "outputs": [],
   "source": [
    "# Show the Figure\n",
    "plt.show()"
   ]
  },
  {
   "cell_type": "markdown",
   "metadata": {},
   "source": [
    "![Tumor Response to Treatment](../Images/treatment.png)"
   ]
  },
  {
   "cell_type": "markdown",
   "metadata": {},
   "source": [
    "## Metastatic Response to Treatment"
   ]
  },
  {
   "cell_type": "code",
   "execution_count": 16,
   "metadata": {
    "scrolled": true
   },
   "outputs": [
    {
     "data": {
      "text/html": [
       "<div>\n",
       "<style scoped>\n",
       "    .dataframe tbody tr th:only-of-type {\n",
       "        vertical-align: middle;\n",
       "    }\n",
       "\n",
       "    .dataframe tbody tr th {\n",
       "        vertical-align: top;\n",
       "    }\n",
       "\n",
       "    .dataframe thead th {\n",
       "        text-align: right;\n",
       "    }\n",
       "</style>\n",
       "<table border=\"1\" class=\"dataframe\">\n",
       "  <thead>\n",
       "    <tr style=\"text-align: right;\">\n",
       "      <th></th>\n",
       "      <th>Drug</th>\n",
       "      <th>Timepoint</th>\n",
       "      <th>Met Sites</th>\n",
       "    </tr>\n",
       "  </thead>\n",
       "  <tbody>\n",
       "    <tr>\n",
       "      <th>0</th>\n",
       "      <td>Capomulin</td>\n",
       "      <td>0</td>\n",
       "      <td>0.000000</td>\n",
       "    </tr>\n",
       "    <tr>\n",
       "      <th>1</th>\n",
       "      <td>Capomulin</td>\n",
       "      <td>5</td>\n",
       "      <td>0.160000</td>\n",
       "    </tr>\n",
       "    <tr>\n",
       "      <th>2</th>\n",
       "      <td>Capomulin</td>\n",
       "      <td>10</td>\n",
       "      <td>0.320000</td>\n",
       "    </tr>\n",
       "    <tr>\n",
       "      <th>3</th>\n",
       "      <td>Capomulin</td>\n",
       "      <td>15</td>\n",
       "      <td>0.375000</td>\n",
       "    </tr>\n",
       "    <tr>\n",
       "      <th>4</th>\n",
       "      <td>Capomulin</td>\n",
       "      <td>20</td>\n",
       "      <td>0.652174</td>\n",
       "    </tr>\n",
       "  </tbody>\n",
       "</table>\n",
       "</div>"
      ],
      "text/plain": [
       "        Drug  Timepoint  Met Sites\n",
       "0  Capomulin          0   0.000000\n",
       "1  Capomulin          5   0.160000\n",
       "2  Capomulin         10   0.320000\n",
       "3  Capomulin         15   0.375000\n",
       "4  Capomulin         20   0.652174"
      ]
     },
     "execution_count": 16,
     "metadata": {},
     "output_type": "execute_result"
    }
   ],
   "source": [
    "# Store the Mean Met. Site Data Grouped by Drug and Timepoint \n",
    "site_avg = volume_drug_time_gby[\"Metastatic Sites\"].mean()\n",
    "site_avg.head()\n",
    "\n",
    "# Convert to DataFrame\n",
    "grouped_site_df= pd.DataFrame({\n",
    "    \"Drug\" : drug_id,\n",
    "    \"Timepoint\" : time_id,\n",
    "    \"Met Sites\" : site_avg\n",
    "})\n",
    "\n",
    "# Preview DataFrame\n",
    "grouped_site_df = grouped_site_df.reset_index(drop=True)\n",
    "grouped_site_df.head()"
   ]
  },
  {
   "cell_type": "code",
   "execution_count": 17,
   "metadata": {
    "scrolled": false
   },
   "outputs": [],
   "source": [
    "# pivot on timepoint: https://pandas.pydata.org/pandas-docs/stable/user_guide/reshaping.html\n",
    "\n",
    "mean_drug_site_df = grouped_site_df.pivot(index = \"Timepoint\", columns = \"Drug\", \n",
    "                                      values = \"Met Sites\")\n",
    "\n",
    "# mean_drug_site_df.head()"
   ]
  },
  {
   "cell_type": "code",
   "execution_count": 18,
   "metadata": {},
   "outputs": [],
   "source": [
    "del mean_drug_site_df[\"Ceftamin\"]\n",
    "del mean_drug_site_df[\"Naftisol\"]\n",
    "del mean_drug_site_df[\"Propriva\"]\n",
    "del mean_drug_site_df[\"Ramicane\"]\n",
    "del mean_drug_site_df[\"Stelasyn\"]\n",
    "del mean_drug_site_df[\"Zoniferol\"]\n",
    "\n",
    "#mean_drug_site_df.head(20)"
   ]
  },
  {
   "cell_type": "code",
   "execution_count": null,
   "metadata": {},
   "outputs": [],
   "source": []
  },
  {
   "cell_type": "code",
   "execution_count": 19,
   "metadata": {},
   "outputs": [
    {
     "data": {
      "text/html": [
       "<div>\n",
       "<style scoped>\n",
       "    .dataframe tbody tr th:only-of-type {\n",
       "        vertical-align: middle;\n",
       "    }\n",
       "\n",
       "    .dataframe tbody tr th {\n",
       "        vertical-align: top;\n",
       "    }\n",
       "\n",
       "    .dataframe thead th {\n",
       "        text-align: right;\n",
       "    }\n",
       "</style>\n",
       "<table border=\"1\" class=\"dataframe\">\n",
       "  <thead>\n",
       "    <tr style=\"text-align: right;\">\n",
       "      <th></th>\n",
       "      <th>Drug</th>\n",
       "      <th>Timepoint</th>\n",
       "      <th>Site SE</th>\n",
       "    </tr>\n",
       "  </thead>\n",
       "  <tbody>\n",
       "    <tr>\n",
       "      <th>0</th>\n",
       "      <td>Capomulin</td>\n",
       "      <td>0</td>\n",
       "      <td>0.000000</td>\n",
       "    </tr>\n",
       "    <tr>\n",
       "      <th>1</th>\n",
       "      <td>Capomulin</td>\n",
       "      <td>5</td>\n",
       "      <td>0.074833</td>\n",
       "    </tr>\n",
       "    <tr>\n",
       "      <th>2</th>\n",
       "      <td>Capomulin</td>\n",
       "      <td>10</td>\n",
       "      <td>0.125433</td>\n",
       "    </tr>\n",
       "    <tr>\n",
       "      <th>3</th>\n",
       "      <td>Capomulin</td>\n",
       "      <td>15</td>\n",
       "      <td>0.132048</td>\n",
       "    </tr>\n",
       "    <tr>\n",
       "      <th>4</th>\n",
       "      <td>Capomulin</td>\n",
       "      <td>20</td>\n",
       "      <td>0.161621</td>\n",
       "    </tr>\n",
       "  </tbody>\n",
       "</table>\n",
       "</div>"
      ],
      "text/plain": [
       "        Drug  Timepoint   Site SE\n",
       "0  Capomulin          0  0.000000\n",
       "1  Capomulin          5  0.074833\n",
       "2  Capomulin         10  0.125433\n",
       "3  Capomulin         15  0.132048\n",
       "4  Capomulin         20  0.161621"
      ]
     },
     "execution_count": 19,
     "metadata": {},
     "output_type": "execute_result"
    }
   ],
   "source": [
    "# Store the Standard Error associated with Met. Sites Grouped by Drug and Timepoint \n",
    "site_sem = volume_drug_time_gby[\"Metastatic Sites\"].sem()\n",
    "site_sem.head()\n",
    "# Convert to DataFrame\n",
    "site_sem_df = pd.DataFrame({\n",
    "    \"Drug\" : drug_id,\n",
    "    \"Timepoint\" : time_id,\n",
    "    \"Site SE\" : site_sem\n",
    "})\n",
    "\n",
    "# Preview DataFrame\n",
    "site_sem_df = site_sem_df.reset_index(drop=True)\n",
    "site_sem_df.head()\n"
   ]
  },
  {
   "cell_type": "code",
   "execution_count": 20,
   "metadata": {},
   "outputs": [],
   "source": [
    "# pivot on timepoint: https://pandas.pydata.org/pandas-docs/stable/user_guide/reshaping.html\n",
    "sem_drug_site_df = site_sem_df.pivot(index = \"Timepoint\", columns = \"Drug\", \n",
    "                                      values = \"Site SE\")\n",
    "\n",
    "# sem_drug_site_df.head(20)"
   ]
  },
  {
   "cell_type": "code",
   "execution_count": 21,
   "metadata": {},
   "outputs": [],
   "source": [
    "# Minor Data Munging to Re-Format the Data Frames - remove extraneous drugs\n",
    "\n",
    "del sem_drug_site_df[\"Ceftamin\"]\n",
    "del sem_drug_site_df[\"Naftisol\"]\n",
    "del sem_drug_site_df[\"Propriva\"]\n",
    "del sem_drug_site_df[\"Ramicane\"]\n",
    "del sem_drug_site_df[\"Stelasyn\"]\n",
    "del sem_drug_site_df[\"Zoniferol\"]\n",
    "\n",
    "# sem_drug_site_df.head(20)"
   ]
  },
  {
   "cell_type": "code",
   "execution_count": null,
   "metadata": {},
   "outputs": [],
   "source": []
  },
  {
   "cell_type": "code",
   "execution_count": 22,
   "metadata": {
    "scrolled": true
   },
   "outputs": [
    {
     "data": {
      "text/html": [
       "<div>\n",
       "<style scoped>\n",
       "    .dataframe tbody tr th:only-of-type {\n",
       "        vertical-align: middle;\n",
       "    }\n",
       "\n",
       "    .dataframe tbody tr th {\n",
       "        vertical-align: top;\n",
       "    }\n",
       "\n",
       "    .dataframe thead th {\n",
       "        text-align: right;\n",
       "    }\n",
       "</style>\n",
       "<table border=\"1\" class=\"dataframe\">\n",
       "  <thead>\n",
       "    <tr style=\"text-align: right;\">\n",
       "      <th>Drug</th>\n",
       "      <th>Capomulin_x</th>\n",
       "      <th>Infubinol_x</th>\n",
       "      <th>Ketapril_x</th>\n",
       "      <th>Placebo_x</th>\n",
       "      <th>Capomulin_y</th>\n",
       "      <th>Infubinol_y</th>\n",
       "      <th>Ketapril_y</th>\n",
       "      <th>Placebo_y</th>\n",
       "    </tr>\n",
       "    <tr>\n",
       "      <th>Timepoint</th>\n",
       "      <th></th>\n",
       "      <th></th>\n",
       "      <th></th>\n",
       "      <th></th>\n",
       "      <th></th>\n",
       "      <th></th>\n",
       "      <th></th>\n",
       "      <th></th>\n",
       "    </tr>\n",
       "  </thead>\n",
       "  <tbody>\n",
       "    <tr>\n",
       "      <th>0</th>\n",
       "      <td>0.000000</td>\n",
       "      <td>0.000000</td>\n",
       "      <td>0.000000</td>\n",
       "      <td>0.000000</td>\n",
       "      <td>0.000000</td>\n",
       "      <td>0.000000</td>\n",
       "      <td>0.000000</td>\n",
       "      <td>0.000000</td>\n",
       "    </tr>\n",
       "    <tr>\n",
       "      <th>5</th>\n",
       "      <td>0.160000</td>\n",
       "      <td>0.280000</td>\n",
       "      <td>0.304348</td>\n",
       "      <td>0.375000</td>\n",
       "      <td>0.074833</td>\n",
       "      <td>0.091652</td>\n",
       "      <td>0.098100</td>\n",
       "      <td>0.100947</td>\n",
       "    </tr>\n",
       "    <tr>\n",
       "      <th>10</th>\n",
       "      <td>0.320000</td>\n",
       "      <td>0.666667</td>\n",
       "      <td>0.590909</td>\n",
       "      <td>0.833333</td>\n",
       "      <td>0.125433</td>\n",
       "      <td>0.159364</td>\n",
       "      <td>0.142018</td>\n",
       "      <td>0.115261</td>\n",
       "    </tr>\n",
       "    <tr>\n",
       "      <th>15</th>\n",
       "      <td>0.375000</td>\n",
       "      <td>0.904762</td>\n",
       "      <td>0.842105</td>\n",
       "      <td>1.250000</td>\n",
       "      <td>0.132048</td>\n",
       "      <td>0.194015</td>\n",
       "      <td>0.191381</td>\n",
       "      <td>0.190221</td>\n",
       "    </tr>\n",
       "    <tr>\n",
       "      <th>20</th>\n",
       "      <td>0.652174</td>\n",
       "      <td>1.050000</td>\n",
       "      <td>1.210526</td>\n",
       "      <td>1.526316</td>\n",
       "      <td>0.161621</td>\n",
       "      <td>0.234801</td>\n",
       "      <td>0.236680</td>\n",
       "      <td>0.234064</td>\n",
       "    </tr>\n",
       "  </tbody>\n",
       "</table>\n",
       "</div>"
      ],
      "text/plain": [
       "Drug       Capomulin_x  Infubinol_x  Ketapril_x  Placebo_x  Capomulin_y  \\\n",
       "Timepoint                                                                 \n",
       "0             0.000000     0.000000    0.000000   0.000000     0.000000   \n",
       "5             0.160000     0.280000    0.304348   0.375000     0.074833   \n",
       "10            0.320000     0.666667    0.590909   0.833333     0.125433   \n",
       "15            0.375000     0.904762    0.842105   1.250000     0.132048   \n",
       "20            0.652174     1.050000    1.210526   1.526316     0.161621   \n",
       "\n",
       "Drug       Infubinol_y  Ketapril_y  Placebo_y  \n",
       "Timepoint                                      \n",
       "0             0.000000    0.000000   0.000000  \n",
       "5             0.091652    0.098100   0.100947  \n",
       "10            0.159364    0.142018   0.115261  \n",
       "15            0.194015    0.191381   0.190221  \n",
       "20            0.234801    0.236680   0.234064  "
      ]
     },
     "execution_count": 22,
     "metadata": {},
     "output_type": "execute_result"
    }
   ],
   "source": [
    "# merge data\n",
    "drug_sites = pd.merge(mean_drug_site_df, sem_drug_site_df, how=\"left\", on=[\"Timepoint\"])\n",
    "\n",
    "# Preview that Reformatting worked\n",
    "drug_sites.head()"
   ]
  },
  {
   "cell_type": "code",
   "execution_count": null,
   "metadata": {
    "scrolled": true
   },
   "outputs": [],
   "source": []
  },
  {
   "cell_type": "code",
   "execution_count": 24,
   "metadata": {},
   "outputs": [
    {
     "data": {
      "image/png": "[encoded data removed]",
      "text/plain": [
       "<Figure size 432x288 with 1 Axes>"
      ]
     },
     "metadata": {
      "needs_background": "light"
     },
     "output_type": "display_data"
    }
   ],
   "source": [
    "# Generate the Plot (with Error Bars)\n",
    "fig, ax = plt.subplots()\n",
    "\n",
    "fig.suptitle(\"Metastatic Spread During Treatment\", fontsize=16, fontweight=\"bold\")\n",
    "\n",
    "ax.errorbar(x_Time, drug_sites[\"Capomulin_x\"], drug_sites[\"Capomulin_y\"], label=\"Capomulin\", fmt=\"o:r\")\n",
    "ax.errorbar(x_Time, drug_sites[\"Infubinol_x\"], drug_sites[\"Infubinol_y\"], label=\"Infubinol\", fmt=\"^:b\")\n",
    "ax.errorbar(x_Time, drug_sites[\"Ketapril_x\"], drug_sites[\"Ketapril_y\"], label=\"Ketapril\", fmt=\"s:g\")\n",
    "ax.errorbar(x_Time, drug_sites[\"Placebo_x\"], drug_sites[\"Placebo_y\"], label=\"Placebo\", fmt=\"D:k\")\n",
    "\n",
    "# xlim is set to give nice spacing\n",
    "ax.set_xlim(-1, x_max + 1)\n",
    "\n",
    "ax.set_xlabel(\"Treatment Duration (Days)\")\n",
    "ax.set_ylabel(\"Met Sites\")\n",
    "\n",
    "plt.grid(axis='y')\n",
    "\n",
    "plt.legend(loc='upper left')\n",
    "\n",
    "\n",
    "# Save the Figure\n",
    "\n",
    "plt.savefig(\"./Images/metastatic_spread.png\")\n",
    "plt.show()\n"
   ]
  },
  {
   "cell_type": "markdown",
   "metadata": {},
   "source": [
    "![Metastatic Spread During Treatment](../Images/spread.png)"
   ]
  },
  {
   "cell_type": "markdown",
   "metadata": {},
   "source": [
    "## Survival Rates"
   ]
  },
  {
   "cell_type": "code",
   "execution_count": 25,
   "metadata": {},
   "outputs": [
    {
     "data": {
      "text/html": [
       "<div>\n",
       "<style scoped>\n",
       "    .dataframe tbody tr th:only-of-type {\n",
       "        vertical-align: middle;\n",
       "    }\n",
       "\n",
       "    .dataframe tbody tr th {\n",
       "        vertical-align: top;\n",
       "    }\n",
       "\n",
       "    .dataframe thead th {\n",
       "        text-align: right;\n",
       "    }\n",
       "</style>\n",
       "<table border=\"1\" class=\"dataframe\">\n",
       "  <thead>\n",
       "    <tr style=\"text-align: right;\">\n",
       "      <th></th>\n",
       "      <th>Drug</th>\n",
       "      <th>Timepoint</th>\n",
       "      <th>Survival Rate</th>\n",
       "    </tr>\n",
       "  </thead>\n",
       "  <tbody>\n",
       "    <tr>\n",
       "      <th>0</th>\n",
       "      <td>Capomulin</td>\n",
       "      <td>0</td>\n",
       "      <td>100.0</td>\n",
       "    </tr>\n",
       "    <tr>\n",
       "      <th>1</th>\n",
       "      <td>Capomulin</td>\n",
       "      <td>5</td>\n",
       "      <td>100.0</td>\n",
       "    </tr>\n",
       "    <tr>\n",
       "      <th>2</th>\n",
       "      <td>Capomulin</td>\n",
       "      <td>10</td>\n",
       "      <td>100.0</td>\n",
       "    </tr>\n",
       "    <tr>\n",
       "      <th>3</th>\n",
       "      <td>Capomulin</td>\n",
       "      <td>15</td>\n",
       "      <td>96.0</td>\n",
       "    </tr>\n",
       "    <tr>\n",
       "      <th>4</th>\n",
       "      <td>Capomulin</td>\n",
       "      <td>20</td>\n",
       "      <td>92.0</td>\n",
       "    </tr>\n",
       "  </tbody>\n",
       "</table>\n",
       "</div>"
      ],
      "text/plain": [
       "        Drug  Timepoint  Survival Rate\n",
       "0  Capomulin          0          100.0\n",
       "1  Capomulin          5          100.0\n",
       "2  Capomulin         10          100.0\n",
       "3  Capomulin         15           96.0\n",
       "4  Capomulin         20           92.0"
      ]
     },
     "execution_count": 25,
     "metadata": {},
     "output_type": "execute_result"
    }
   ],
   "source": [
    "# Store the Count of Mice Grouped by Drug and Timepoint (W can pass any metric)\n",
    "# set the max number mice at start of each drug trial\n",
    "mouse_max = volume_drug_time_gby[\"Mouse ID\"].count().max(level=0)\n",
    "\n",
    "# find count of mice over time\n",
    "mouse_count = volume_drug_time_gby[\"Mouse ID\"].count()\n",
    "\n",
    "# set percentage of surviving mice over time\n",
    "mouse_survive = (mouse_count / mouse_max) * 100\n",
    "\n",
    "# check survival percentage\n",
    "# mouse_survive.head()\n",
    "\n",
    "# # Convert to DataFrame\n",
    "survival_df= pd.DataFrame({\n",
    "    \"Drug\" : drug_id,\n",
    "    \"Timepoint\" : time_id,\n",
    "    \"Survival Rate\" : mouse_survive\n",
    "})\n",
    "\n",
    "# # Preview DataFrame\n",
    "survival_df = survival_df.reset_index(drop=True)\n",
    "survival_df.head()"
   ]
  },
  {
   "cell_type": "code",
   "execution_count": null,
   "metadata": {},
   "outputs": [],
   "source": []
  },
  {
   "cell_type": "code",
   "execution_count": 26,
   "metadata": {
    "scrolled": false
   },
   "outputs": [],
   "source": [
    "# Minor Data Munging to Re-Format the Data Frames\n",
    "\n",
    "# pivot on timepoint: https://pandas.pydata.org/pandas-docs/stable/user_guide/reshaping.html\n",
    "\n",
    "mouse_survive_df = survival_df.pivot(index = \"Timepoint\", columns = \"Drug\", \n",
    "                                      values = \"Survival Rate\")\n",
    "\n",
    "# mouse_survive_df.head()"
   ]
  },
  {
   "cell_type": "code",
   "execution_count": 27,
   "metadata": {
    "scrolled": false
   },
   "outputs": [
    {
     "data": {
      "text/html": [
       "<div>\n",
       "<style scoped>\n",
       "    .dataframe tbody tr th:only-of-type {\n",
       "        vertical-align: middle;\n",
       "    }\n",
       "\n",
       "    .dataframe tbody tr th {\n",
       "        vertical-align: top;\n",
       "    }\n",
       "\n",
       "    .dataframe thead th {\n",
       "        text-align: right;\n",
       "    }\n",
       "</style>\n",
       "<table border=\"1\" class=\"dataframe\">\n",
       "  <thead>\n",
       "    <tr style=\"text-align: right;\">\n",
       "      <th>Drug</th>\n",
       "      <th>Capomulin</th>\n",
       "      <th>Infubinol</th>\n",
       "      <th>Ketapril</th>\n",
       "      <th>Placebo</th>\n",
       "    </tr>\n",
       "    <tr>\n",
       "      <th>Timepoint</th>\n",
       "      <th></th>\n",
       "      <th></th>\n",
       "      <th></th>\n",
       "      <th></th>\n",
       "    </tr>\n",
       "  </thead>\n",
       "  <tbody>\n",
       "    <tr>\n",
       "      <th>0</th>\n",
       "      <td>100.0</td>\n",
       "      <td>100.0</td>\n",
       "      <td>100.0</td>\n",
       "      <td>100.0</td>\n",
       "    </tr>\n",
       "    <tr>\n",
       "      <th>5</th>\n",
       "      <td>100.0</td>\n",
       "      <td>100.0</td>\n",
       "      <td>92.0</td>\n",
       "      <td>96.0</td>\n",
       "    </tr>\n",
       "    <tr>\n",
       "      <th>10</th>\n",
       "      <td>100.0</td>\n",
       "      <td>84.0</td>\n",
       "      <td>88.0</td>\n",
       "      <td>96.0</td>\n",
       "    </tr>\n",
       "    <tr>\n",
       "      <th>15</th>\n",
       "      <td>96.0</td>\n",
       "      <td>84.0</td>\n",
       "      <td>76.0</td>\n",
       "      <td>80.0</td>\n",
       "    </tr>\n",
       "    <tr>\n",
       "      <th>20</th>\n",
       "      <td>92.0</td>\n",
       "      <td>80.0</td>\n",
       "      <td>76.0</td>\n",
       "      <td>76.0</td>\n",
       "    </tr>\n",
       "    <tr>\n",
       "      <th>25</th>\n",
       "      <td>88.0</td>\n",
       "      <td>72.0</td>\n",
       "      <td>76.0</td>\n",
       "      <td>68.0</td>\n",
       "    </tr>\n",
       "    <tr>\n",
       "      <th>30</th>\n",
       "      <td>88.0</td>\n",
       "      <td>68.0</td>\n",
       "      <td>72.0</td>\n",
       "      <td>60.0</td>\n",
       "    </tr>\n",
       "    <tr>\n",
       "      <th>35</th>\n",
       "      <td>88.0</td>\n",
       "      <td>48.0</td>\n",
       "      <td>68.0</td>\n",
       "      <td>56.0</td>\n",
       "    </tr>\n",
       "    <tr>\n",
       "      <th>40</th>\n",
       "      <td>84.0</td>\n",
       "      <td>40.0</td>\n",
       "      <td>60.0</td>\n",
       "      <td>48.0</td>\n",
       "    </tr>\n",
       "    <tr>\n",
       "      <th>45</th>\n",
       "      <td>84.0</td>\n",
       "      <td>36.0</td>\n",
       "      <td>44.0</td>\n",
       "      <td>44.0</td>\n",
       "    </tr>\n",
       "  </tbody>\n",
       "</table>\n",
       "</div>"
      ],
      "text/plain": [
       "Drug       Capomulin  Infubinol  Ketapril  Placebo\n",
       "Timepoint                                         \n",
       "0              100.0      100.0     100.0    100.0\n",
       "5              100.0      100.0      92.0     96.0\n",
       "10             100.0       84.0      88.0     96.0\n",
       "15              96.0       84.0      76.0     80.0\n",
       "20              92.0       80.0      76.0     76.0\n",
       "25              88.0       72.0      76.0     68.0\n",
       "30              88.0       68.0      72.0     60.0\n",
       "35              88.0       48.0      68.0     56.0\n",
       "40              84.0       40.0      60.0     48.0\n",
       "45              84.0       36.0      44.0     44.0"
      ]
     },
     "execution_count": 27,
     "metadata": {},
     "output_type": "execute_result"
    }
   ],
   "source": [
    "# Remove extraneous drugs\n",
    "del mouse_survive_df[\"Ceftamin\"]\n",
    "del mouse_survive_df[\"Naftisol\"]\n",
    "del mouse_survive_df[\"Propriva\"]\n",
    "del mouse_survive_df[\"Ramicane\"]\n",
    "del mouse_survive_df[\"Stelasyn\"]\n",
    "del mouse_survive_df[\"Zoniferol\"]\n",
    "\n",
    "# Preview the Data Frame\n",
    "\n",
    "mouse_survive_df.head(20)"
   ]
  },
  {
   "cell_type": "code",
   "execution_count": 28,
   "metadata": {},
   "outputs": [
    {
     "data": {
      "image/png": "[encoded data removed]",
      "text/plain": [
       "<Figure size 432x288 with 1 Axes>"
      ]
     },
     "metadata": {
      "needs_background": "light"
     },
     "output_type": "display_data"
    }
   ],
   "source": [
    "# Generate the Plot (with Error Bars)\n",
    "fig, ax = plt.subplots()\n",
    "\n",
    "fig.suptitle(\"Survival During Treatment\", fontsize=16, fontweight=\"bold\")\n",
    "\n",
    "Capomulin_handle, = plt.plot(x_Time, mouse_survive_df[\"Capomulin\"], marker=\"o\", label=\"Capomulin\", color=\"red\", linestyle=\":\")\n",
    "Infubinol_handle, = plt.plot(x_Time, mouse_survive_df[\"Infubinol\"], marker=\"^\",label=\"Infubinol\", color=\"blue\", linestyle=\":\")\n",
    "Ketapril_handle, = plt.plot(x_Time, mouse_survive_df[\"Ketapril\"], marker=\"s\",label=\"Ketapril\", color=\"green\", linestyle=\":\")\n",
    "Placebo_handle, = plt.plot(x_Time, mouse_survive_df[\"Placebo\"], marker=\"D\",label=\"Placebo\", color=\"black\", linestyle=\":\")\n",
    "\n",
    "# xlim is set to give nice spacing\n",
    "ax.set_xlim(-1, x_max + 1)\n",
    "\n",
    "ax.set_xlabel(\"Time (Days)\")\n",
    "ax.set_ylabel(\"Survival Rate (%)\")\n",
    "\n",
    "plt.grid(axis='both')\n",
    "\n",
    "plt.legend(loc='lower left')\n",
    "\n",
    "\n",
    "# Save the Figure\n",
    "\n",
    "plt.savefig(\"./Images/survival.png\")\n",
    "plt.show()\n",
    "\n",
    "# Show the Figure\n",
    "plt.show()"
   ]
  },
  {
   "cell_type": "markdown",
   "metadata": {},
   "source": [
    "![Metastatic Spread During Treatment](../Images/survival.png)"
   ]
  },
  {
   "cell_type": "markdown",
   "metadata": {},
   "source": [
    "## Summary Bar Graph"
   ]
  },
  {
   "cell_type": "code",
   "execution_count": 29,
   "metadata": {},
   "outputs": [
    {
     "data": {
      "text/html": [
       "<div>\n",
       "<style scoped>\n",
       "    .dataframe tbody tr th:only-of-type {\n",
       "        vertical-align: middle;\n",
       "    }\n",
       "\n",
       "    .dataframe tbody tr th {\n",
       "        vertical-align: top;\n",
       "    }\n",
       "\n",
       "    .dataframe thead th {\n",
       "        text-align: right;\n",
       "    }\n",
       "</style>\n",
       "<table border=\"1\" class=\"dataframe\">\n",
       "  <thead>\n",
       "    <tr style=\"text-align: right;\">\n",
       "      <th>Drug</th>\n",
       "      <th>Capomulin</th>\n",
       "      <th>Infubinol</th>\n",
       "      <th>Ketapril</th>\n",
       "      <th>Placebo</th>\n",
       "    </tr>\n",
       "    <tr>\n",
       "      <th>Timepoint</th>\n",
       "      <th></th>\n",
       "      <th></th>\n",
       "      <th></th>\n",
       "      <th></th>\n",
       "    </tr>\n",
       "  </thead>\n",
       "  <tbody>\n",
       "    <tr>\n",
       "      <th>0</th>\n",
       "      <td>45.000000</td>\n",
       "      <td>45.000000</td>\n",
       "      <td>45.000000</td>\n",
       "      <td>45.000000</td>\n",
       "    </tr>\n",
       "    <tr>\n",
       "      <th>5</th>\n",
       "      <td>44.266086</td>\n",
       "      <td>47.062001</td>\n",
       "      <td>47.389175</td>\n",
       "      <td>47.125589</td>\n",
       "    </tr>\n",
       "    <tr>\n",
       "      <th>10</th>\n",
       "      <td>43.084291</td>\n",
       "      <td>49.403909</td>\n",
       "      <td>49.582269</td>\n",
       "      <td>49.423329</td>\n",
       "    </tr>\n",
       "    <tr>\n",
       "      <th>15</th>\n",
       "      <td>42.064317</td>\n",
       "      <td>51.296397</td>\n",
       "      <td>52.399974</td>\n",
       "      <td>51.359742</td>\n",
       "    </tr>\n",
       "    <tr>\n",
       "      <th>20</th>\n",
       "      <td>40.716325</td>\n",
       "      <td>53.197691</td>\n",
       "      <td>54.920935</td>\n",
       "      <td>54.364417</td>\n",
       "    </tr>\n",
       "    <tr>\n",
       "      <th>25</th>\n",
       "      <td>39.939528</td>\n",
       "      <td>55.715252</td>\n",
       "      <td>57.678982</td>\n",
       "      <td>57.482574</td>\n",
       "    </tr>\n",
       "    <tr>\n",
       "      <th>30</th>\n",
       "      <td>38.769339</td>\n",
       "      <td>58.299397</td>\n",
       "      <td>60.994507</td>\n",
       "      <td>59.809063</td>\n",
       "    </tr>\n",
       "    <tr>\n",
       "      <th>35</th>\n",
       "      <td>37.816839</td>\n",
       "      <td>60.742461</td>\n",
       "      <td>63.371686</td>\n",
       "      <td>62.420615</td>\n",
       "    </tr>\n",
       "    <tr>\n",
       "      <th>40</th>\n",
       "      <td>36.958001</td>\n",
       "      <td>63.162824</td>\n",
       "      <td>66.068580</td>\n",
       "      <td>65.052675</td>\n",
       "    </tr>\n",
       "    <tr>\n",
       "      <th>45</th>\n",
       "      <td>36.236114</td>\n",
       "      <td>65.755562</td>\n",
       "      <td>70.662958</td>\n",
       "      <td>68.084082</td>\n",
       "    </tr>\n",
       "  </tbody>\n",
       "</table>\n",
       "</div>"
      ],
      "text/plain": [
       "Drug       Capomulin  Infubinol   Ketapril    Placebo\n",
       "Timepoint                                            \n",
       "0          45.000000  45.000000  45.000000  45.000000\n",
       "5          44.266086  47.062001  47.389175  47.125589\n",
       "10         43.084291  49.403909  49.582269  49.423329\n",
       "15         42.064317  51.296397  52.399974  51.359742\n",
       "20         40.716325  53.197691  54.920935  54.364417\n",
       "25         39.939528  55.715252  57.678982  57.482574\n",
       "30         38.769339  58.299397  60.994507  59.809063\n",
       "35         37.816839  60.742461  63.371686  62.420615\n",
       "40         36.958001  63.162824  66.068580  65.052675\n",
       "45         36.236114  65.755562  70.662958  68.084082"
      ]
     },
     "execution_count": 29,
     "metadata": {},
     "output_type": "execute_result"
    }
   ],
   "source": [
    "mean_drug_stats_df.head(11)"
   ]
  },
  {
   "cell_type": "code",
   "execution_count": 30,
   "metadata": {},
   "outputs": [
    {
     "data": {
      "text/plain": [
       "0   -19.475303\n",
       "1    46.123472\n",
       "2    57.028795\n",
       "3    51.297960\n",
       "dtype: float64"
      ]
     },
     "execution_count": 30,
     "metadata": {},
     "output_type": "execute_result"
    }
   ],
   "source": [
    "# Calculate the percent changes for each drug\n",
    "difference = mean_drug_stats_df.diff()\n",
    "total_difference = mean_drug_stats_df.diff().sum()\n",
    "\n",
    "percent_change = (total_difference / x_max) * 100\n",
    "\n",
    "percent_change\n",
    "\n",
    "percent_change = percent_change.reset_index(drop=True)\n",
    "percent_change\n",
    "\n",
    "# Display the data to confirm\n"
   ]
  },
  {
   "cell_type": "code",
   "execution_count": 31,
   "metadata": {},
   "outputs": [
    {
     "data": {
      "text/plain": [
       "0          -19.475303\n",
       "1           46.123472\n",
       "2           57.028795\n",
       "3           51.297960\n",
       "positive     0.000000\n",
       "dtype: float64"
      ]
     },
     "execution_count": 31,
     "metadata": {},
     "output_type": "execute_result"
    }
   ],
   "source": [
    "percent_change['positive'] = percent_change[0] > 0\n",
    "percent_change\n"
   ]
  },
  {
   "cell_type": "code",
   "execution_count": 32,
   "metadata": {},
   "outputs": [
    {
     "ename": "NameError",
     "evalue": "name 'x' is not defined",
     "output_type": "error",
     "traceback": [
      "\u001b[1;31m---------------------------------------------------------------------------\u001b[0m",
      "\u001b[1;31mNameError\u001b[0m                                 Traceback (most recent call last)",
      "\u001b[1;32m<ipython-input-32-d4a9ae8742e4>\u001b[0m in \u001b[0;36m<module>\u001b[1;34m\u001b[0m\n\u001b[0;32m      4\u001b[0m \u001b[0mmask2\u001b[0m \u001b[1;33m=\u001b[0m \u001b[0mpercent_change\u001b[0m \u001b[1;33m>=\u001b[0m \u001b[1;36m0.0\u001b[0m\u001b[1;33m\u001b[0m\u001b[1;33m\u001b[0m\u001b[0m\n\u001b[0;32m      5\u001b[0m \u001b[1;33m\u001b[0m\u001b[0m\n\u001b[1;32m----> 6\u001b[1;33m \u001b[0mplt\u001b[0m\u001b[1;33m.\u001b[0m\u001b[0mbar\u001b[0m\u001b[1;33m(\u001b[0m\u001b[0mx\u001b[0m\u001b[1;33m[\u001b[0m\u001b[0mmask1\u001b[0m\u001b[1;33m]\u001b[0m\u001b[1;33m,\u001b[0m \u001b[0my\u001b[0m\u001b[1;33m[\u001b[0m\u001b[0mmask1\u001b[0m\u001b[1;33m]\u001b[0m\u001b[1;33m,\u001b[0m \u001b[0mcolor\u001b[0m \u001b[1;33m=\u001b[0m \u001b[1;34m'red'\u001b[0m\u001b[1;33m)\u001b[0m\u001b[1;33m\u001b[0m\u001b[1;33m\u001b[0m\u001b[0m\n\u001b[0m\u001b[0;32m      7\u001b[0m \u001b[0mplt\u001b[0m\u001b[1;33m.\u001b[0m\u001b[0mbar\u001b[0m\u001b[1;33m(\u001b[0m\u001b[0mx\u001b[0m\u001b[1;33m[\u001b[0m\u001b[0mmask2\u001b[0m\u001b[1;33m]\u001b[0m\u001b[1;33m,\u001b[0m \u001b[0my\u001b[0m\u001b[1;33m[\u001b[0m\u001b[0mmask2\u001b[0m\u001b[1;33m]\u001b[0m\u001b[1;33m,\u001b[0m \u001b[0mcolor\u001b[0m \u001b[1;33m=\u001b[0m \u001b[1;34m'blue'\u001b[0m\u001b[1;33m)\u001b[0m\u001b[1;33m\u001b[0m\u001b[1;33m\u001b[0m\u001b[0m\n\u001b[0;32m      8\u001b[0m \u001b[0mplt\u001b[0m\u001b[1;33m.\u001b[0m\u001b[0mshow\u001b[0m\u001b[1;33m(\u001b[0m\u001b[1;33m)\u001b[0m\u001b[1;33m\u001b[0m\u001b[1;33m\u001b[0m\u001b[0m\n",
      "\u001b[1;31mNameError\u001b[0m: name 'x' is not defined"
     ]
    }
   ],
   "source": [
    "# Create a bar chart based off of the group series from before\n",
    "\n",
    "mask1 = percent_change < 0.0\n",
    "mask2 = percent_change >= 0.0\n",
    "\n",
    "plt.bar(x[mask1], y[mask1], color = 'red')\n",
    "plt.bar(x[mask2], y[mask2], color = 'blue')\n",
    "plt.show()\n",
    "\n",
    "\n",
    "change_chart = percent_change.plot(kind='bar', color='orange')\n"
   ]
  },
  {
   "cell_type": "code",
   "execution_count": 33,
   "metadata": {},
   "outputs": [],
   "source": [
    "# Store all Relevant Percent Changes into a Tuple\n",
    "\n",
    "\n",
    "# Splice the data between passing and failing drugs\n",
    "\n",
    "\n",
    "# Orient widths. Add labels, tick marks, etc. \n",
    "\n",
    "\n",
    "# Use functions to label the percentages of changes\n",
    "\n",
    "\n",
    "# Call functions to implement the function calls\n",
    "\n",
    "\n",
    "# Save the Figure\n",
    "\n",
    "\n",
    "# Show the Figure\n",
    "fig.show()"
   ]
  },
  {
   "cell_type": "markdown",
   "metadata": {},
   "source": [
    "![Metastatic Spread During Treatment](../Images/change.png)"
   ]
  },
  {
   "cell_type": "markdown",
   "metadata": {},
   "source": [
    "Three Analytic Insights\n",
    "1) Capomulin reduced tumor volume by nearly 20% during the 45 day trial.\n",
    "2) Infubinol and Ketapril performed no better than Placebo - all seen tumor growth increase from 46% to 57% during the trial.\n",
    "3) Capomulin also saw reduced metastatic spread of tumors that was statistically significant from the other two drugs and Placebo.\n"
   ]
  }
 ],
 "metadata": {
  "anaconda-cloud": {},
  "kernelspec": {
   "display_name": "Python [conda env:PythonData] *",
   "language": "python",
   "name": "conda-env-PythonData-py"
  },
  "language_info": {
   "codemirror_mode": {
    "name": "ipython",
    "version": 3
   },
   "file_extension": ".py",
   "mimetype": "text/x-python",
   "name": "python",
   "nbconvert_exporter": "python",
   "pygments_lexer": "ipython3",
   "version": "3.6.9"
  }
 },
 "nbformat": 4,
 "nbformat_minor": 1
}
